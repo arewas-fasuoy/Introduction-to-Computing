{
 "cells": [
  {
   "cell_type": "markdown",
   "metadata": {
    "slideshow": {
     "slide_type": "slide"
    }
   },
   "source": [
    "## DataType, Variables"
   ]
  },
  {
   "cell_type": "code",
   "execution_count": null,
   "metadata": {
    "slideshow": {
     "slide_type": "slide"
    }
   },
   "outputs": [],
   "source": [
    "type(1.2)"
   ]
  },
  {
   "cell_type": "code",
   "execution_count": null,
   "metadata": {
    "slideshow": {
     "slide_type": "slide"
    }
   },
   "outputs": [],
   "source": [
    "22,23,24\n",
    "x=22+23+24\n",
    "print(x)"
   ]
  },
  {
   "cell_type": "code",
   "execution_count": null,
   "metadata": {
    "slideshow": {
     "slide_type": "slide"
    }
   },
   "outputs": [],
   "source": [
    "3 >= 2"
   ]
  },
  {
   "cell_type": "code",
   "execution_count": null,
   "metadata": {
    "slideshow": {
     "slide_type": "slide"
    }
   },
   "outputs": [],
   "source": [
    "if 2<2:\n",
    "    print(\"1 is less than 2\")\n",
    "else:\n",
    "    print(\"False\")"
   ]
  },
  {
   "cell_type": "code",
   "execution_count": null,
   "metadata": {
    "slideshow": {
     "slide_type": "slide"
    }
   },
   "outputs": [],
   "source": [
    "#Finding Absolute of a value\n",
    "x=-2\n",
    "if x>0:\n",
    "    print(x)\n",
    "elif x==0:\n",
    "    print(x)\n",
    "elif x<0:\n",
    "    print(-x)"
   ]
  },
  {
   "cell_type": "code",
   "execution_count": 50,
   "metadata": {
    "slideshow": {
     "slide_type": "slide"
    }
   },
   "outputs": [],
   "source": [
    "def absolute(x):\n",
    "    if x >= 0:\n",
    "        return x\n",
    "    elif x < 0:\n",
    "        return -x"
   ]
  },
  {
   "cell_type": "code",
   "execution_count": null,
   "metadata": {
    "slideshow": {
     "slide_type": "slide"
    }
   },
   "outputs": [],
   "source": [
    "x=-2\n",
    "y=absolute(x)\n",
    "print(y)"
   ]
  },
  {
   "cell_type": "code",
   "execution_count": null,
   "metadata": {
    "slideshow": {
     "slide_type": "slide"
    }
   },
   "outputs": [],
   "source": [
    "def scope(x):\n",
    "    y=1\n",
    "    x=x+y\n",
    "    print (\"Local Scope\")\n",
    "    print (y)\n",
    "    print (p)\n",
    "    print (x)\n",
    "    return x\n",
    "\n",
    "p=20\n",
    "x=3\n",
    "y=5\n",
    "z=scope(x)\n",
    "print (\"Global Scope\")\n",
    "print (p)\n",
    "print (x)\n",
    "print (y)\n",
    "print (z)"
   ]
  },
  {
   "cell_type": "code",
   "execution_count": null,
   "metadata": {
    "slideshow": {
     "slide_type": "slide"
    }
   },
   "outputs": [],
   "source": [
    "def scope(x):\n",
    "    y=1\n",
    "    print(y)\n",
    "    #y=1  \n",
    "    return x\n",
    "\n",
    "y=2\n",
    "z=scope(3)\n",
    "print(z)"
   ]
  },
  {
   "cell_type": "code",
   "execution_count": null,
   "metadata": {
    "slideshow": {
     "slide_type": "slide"
    }
   },
   "outputs": [],
   "source": [
    "def add(x, y=0):   \n",
    "    return x+y\n",
    "    \n",
    "z=add(1,2)\n",
    "print (z)"
   ]
  },
  {
   "cell_type": "markdown",
   "metadata": {
    "slideshow": {
     "slide_type": "slide"
    }
   },
   "source": [
    "# LISTS, TUPLES"
   ]
  },
  {
   "cell_type": "markdown",
   "metadata": {
    "slideshow": {
     "slide_type": "slide"
    }
   },
   "source": [
    "## LISTS: A collection of items/ names grouped together to form a sequence"
   ]
  },
  {
   "cell_type": "code",
   "execution_count": null,
   "metadata": {
    "slideshow": {
     "slide_type": "slide"
    }
   },
   "outputs": [],
   "source": [
    "contacts = [ \"Ali\" , \"Sara\" , \"Ahmed\" , \"Nadeem\" , \"Bilal\" ]\n",
    "\n",
    "print(contacts)\n"
   ]
  },
  {
   "cell_type": "code",
   "execution_count": null,
   "metadata": {
    "slideshow": {
     "slide_type": "slide"
    }
   },
   "outputs": [],
   "source": [
    "mixList = [ 1, 2, \"Sara\", 3, 4, \"Ali\"]\n",
    "\n",
    "print(mixList)"
   ]
  },
  {
   "cell_type": "code",
   "execution_count": null,
   "metadata": {
    "slideshow": {
     "slide_type": "slide"
    }
   },
   "outputs": [],
   "source": [
    "print(contacts)\n",
    "\n",
    "len(contacts)"
   ]
  },
  {
   "cell_type": "code",
   "execution_count": null,
   "metadata": {
    "slideshow": {
     "slide_type": "slide"
    }
   },
   "outputs": [],
   "source": [
    "contacts[3]"
   ]
  },
  {
   "cell_type": "code",
   "execution_count": null,
   "metadata": {
    "slideshow": {
     "slide_type": "slide"
    }
   },
   "outputs": [],
   "source": [
    "print(contacts)\n",
    "\n",
    "contacts[2] = \"Maryam\" \n",
    "\n",
    "print(contacts)"
   ]
  },
  {
   "cell_type": "code",
   "execution_count": null,
   "metadata": {
    "slideshow": {
     "slide_type": "slide"
    }
   },
   "outputs": [],
   "source": [
    "contacts = [ \"Ali\" , \"Sara\" , \"Ahmed\" , \"Nadeem\" , \"Bilal\" ]\n",
    "\n",
    "print (contacts)\n",
    "\n",
    "contacts.insert(2, \"new name\")\n",
    "\n",
    "print (contacts)"
   ]
  },
  {
   "cell_type": "code",
   "execution_count": null,
   "metadata": {
    "slideshow": {
     "slide_type": "slide"
    }
   },
   "outputs": [],
   "source": [
    "print (contacts)\n",
    "\n",
    "contacts.append(\"final name\")\n",
    "\n",
    "print(contacts)"
   ]
  },
  {
   "cell_type": "code",
   "execution_count": null,
   "metadata": {
    "slideshow": {
     "slide_type": "slide"
    }
   },
   "outputs": [],
   "source": [
    "print(contacts)\n",
    "\n",
    "contacts.remove(\"Sara\")\n",
    "\n",
    "print(contacts)"
   ]
  },
  {
   "cell_type": "code",
   "execution_count": null,
   "metadata": {
    "slideshow": {
     "slide_type": "slide"
    }
   },
   "outputs": [],
   "source": [
    "numbers = [ 1,7,3,5,20 ]\n",
    "\n",
    "numbers.sort()\n",
    "\n",
    "print(numbers)"
   ]
  },
  {
   "cell_type": "code",
   "execution_count": null,
   "metadata": {
    "slideshow": {
     "slide_type": "slide"
    }
   },
   "outputs": [],
   "source": [
    "print(numbers)\n",
    "\n",
    "numbers.reverse()\n",
    "\n",
    "print(numbers)\n"
   ]
  },
  {
   "cell_type": "code",
   "execution_count": 85,
   "metadata": {
    "slideshow": {
     "slide_type": "slide"
    }
   },
   "outputs": [],
   "source": [
    "numbers = [20, 7, 5, 3, 1]\n",
    "\n",
    "myTuple = (20, 7, 5,3, 3, 1)"
   ]
  },
  {
   "cell_type": "markdown",
   "metadata": {
    "slideshow": {
     "slide_type": "slide"
    }
   },
   "source": [
    "## Tuples Are Immutable"
   ]
  },
  {
   "cell_type": "code",
   "execution_count": null,
   "metadata": {
    "slideshow": {
     "slide_type": "slide"
    }
   },
   "outputs": [],
   "source": [
    "print (numbers)\n",
    "numbers[1]= 1\n",
    "print (numbers)\n",
    "print(myTuple)\n",
    "#myTuple[1]=3\n",
    "myTuple.count(3)"
   ]
  },
  {
   "cell_type": "code",
   "execution_count": null,
   "metadata": {
    "slideshow": {
     "slide_type": "slide"
    }
   },
   "outputs": [],
   "source": [
    "numbers = [ 20, 1, 3, 15, 1 ]\n",
    "sum = 0\n",
    "sum = numbers[0] + numbers[1] + numbers[2] + numbers[3] + numbers[4] \n",
    "print (sum)"
   ]
  },
  {
   "cell_type": "markdown",
   "metadata": {
    "slideshow": {
     "slide_type": "slide"
    }
   },
   "source": [
    "# REPITETION, ITERATION, LOOPS"
   ]
  },
  {
   "cell_type": "code",
   "execution_count": null,
   "metadata": {
    "slideshow": {
     "slide_type": "slide"
    }
   },
   "outputs": [],
   "source": [
    "numbers = [ 20, 1, 3, 15, 1 ]\n",
    "sum = 0\n",
    "\n",
    "for i in numbers:\n",
    "    sum= sum + i\n",
    "\n",
    "print(sum)"
   ]
  },
  {
   "cell_type": "code",
   "execution_count": null,
   "metadata": {
    "slideshow": {
     "slide_type": "slide"
    }
   },
   "outputs": [],
   "source": [
    "contacts = [ \"Ali\" , \"Sara\" , \"Ahmed\" , \"Nadeem\" , \"Bilal\" ]\n",
    "\n",
    "for i in contacts:\n",
    "    print(i)\n",
    "\n",
    "print(\"End of For Loop\")"
   ]
  },
  {
   "cell_type": "code",
   "execution_count": null,
   "metadata": {
    "slideshow": {
     "slide_type": "slide"
    }
   },
   "outputs": [],
   "source": [
    "n = 1\n",
    "while n<10:\n",
    "    print(n)\n",
    "    n = n+1\n",
    "    \n",
    "print(\"End Of While Loop\")\n",
    "\n"
   ]
  },
  {
   "cell_type": "code",
   "execution_count": null,
   "metadata": {
    "slideshow": {
     "slide_type": "slide"
    }
   },
   "outputs": [],
   "source": [
    "contacts = [[\"Ali\", \"2123\"] , [\"Sara\" , \"4567\"] , [\"Ahmed\", \"2890\"]]\n",
    "\n",
    "print(contacts)\n",
    "contacts[1][1]"
   ]
  },
  {
   "cell_type": "code",
   "execution_count": null,
   "metadata": {
    "slideshow": {
     "slide_type": "slide"
    }
   },
   "outputs": [],
   "source": [
    "print(contacts)\n",
    "for k,v in contacts:\n",
    "    print (k,v)"
   ]
  },
  {
   "cell_type": "markdown",
   "metadata": {
    "slideshow": {
     "slide_type": "slide"
    }
   },
   "source": [
    "## Dictionaries: key,value pairs"
   ]
  },
  {
   "cell_type": "code",
   "execution_count": null,
   "metadata": {
    "slideshow": {
     "slide_type": "slide"
    }
   },
   "outputs": [],
   "source": [
    "contacts = {\"Nadia\": \"321\", \n",
    "            \"Ali\": \"2123\", \n",
    "            \"Sara\" : \"4567\",\n",
    "            \"Ahmed\": \"2890\"}\n",
    "contacts['1'] #keyerror"
   ]
  },
  {
   "cell_type": "code",
   "execution_count": null,
   "metadata": {
    "slideshow": {
     "slide_type": "slide"
    }
   },
   "outputs": [],
   "source": [
    "details={ \"Nadia\":{\"number\":321,\n",
    "                    \"relation\":\"friend\",\n",
    "                    \"Calls Recieved\": 5,\n",
    "                    \"Calls Dialed\": 4},\n",
    "         \"Ali\":{\"number\":2123,\n",
    "                    \"relation\":\"sister\",\n",
    "                    \"Calls Recieved\": 3,\n",
    "                    \"Calls Dialed\": 1},\n",
    "         \"Sara\":{\"number\":2890,\n",
    "                    \"relation\":\"cousin\",\n",
    "                    \"Calls Recieved\": 0,\n",
    "                    \"Calls Dialed\": 1}\n",
    "        \n",
    "    }\n",
    "\n",
    "details['Sara']['Calls Recieved']"
   ]
  },
  {
   "cell_type": "code",
   "execution_count": null,
   "metadata": {
    "slideshow": {
     "slide_type": "slide"
    }
   },
   "outputs": [],
   "source": [
    "details['Sara']['number']\n",
    "\n",
    "details['Sara']['number']=4567\n",
    "\n",
    "details['Sara']['number']\n",
    "print(details)"
   ]
  },
  {
   "cell_type": "code",
   "execution_count": null,
   "metadata": {
    "slideshow": {
     "slide_type": "slide"
    }
   },
   "outputs": [],
   "source": [
    "'Zeeshan' in details"
   ]
  },
  {
   "cell_type": "code",
   "execution_count": null,
   "metadata": {
    "slideshow": {
     "slide_type": "slide"
    }
   },
   "outputs": [],
   "source": [
    "for names in details:\n",
    "    print (names)"
   ]
  },
  {
   "cell_type": "code",
   "execution_count": null,
   "metadata": {
    "slideshow": {
     "slide_type": "slide"
    }
   },
   "outputs": [],
   "source": [
    "for names in details:\n",
    "    values= details[names]\n",
    "    print (names, \"=\", values)"
   ]
  },
  {
   "cell_type": "code",
   "execution_count": null,
   "metadata": {},
   "outputs": [],
   "source": [
    "details.items() #returns list "
   ]
  }
 ],
 "metadata": {
  "celltoolbar": "Slideshow",
  "kernelspec": {
   "display_name": "Python 3",
   "language": "python",
   "name": "python3"
  },
  "language_info": {
   "codemirror_mode": {
    "name": "ipython",
    "version": 3
   },
   "file_extension": ".py",
   "mimetype": "text/x-python",
   "name": "python",
   "nbconvert_exporter": "python",
   "pygments_lexer": "ipython3",
   "version": "3.7.4"
  }
 },
 "nbformat": 4,
 "nbformat_minor": 2
}
